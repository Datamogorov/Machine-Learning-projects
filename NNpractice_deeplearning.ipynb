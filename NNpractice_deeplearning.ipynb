{
  "nbformat": 4,
  "nbformat_minor": 0,
  "metadata": {
    "colab": {
      "name": "NNpractice_deeplearning.ipynb",
      "provenance": [],
      "authorship_tag": "ABX9TyPQXuThGlF+JG4K8Gcp3LNL",
      "include_colab_link": true
    },
    "kernelspec": {
      "name": "python3",
      "display_name": "Python 3"
    },
    "accelerator": "GPU"
  },
  "cells": [
    {
      "cell_type": "markdown",
      "metadata": {
        "id": "view-in-github",
        "colab_type": "text"
      },
      "source": [
        "<a href=\"https://colab.research.google.com/github/Datamogorov/Machine-Learning-projects/blob/master/NNpractice_deeplearning.ipynb\" target=\"_parent\"><img src=\"https://colab.research.google.com/assets/colab-badge.svg\" alt=\"Open In Colab\"/></a>"
      ]
    },
    {
      "cell_type": "markdown",
      "metadata": {
        "id": "ezRGSx6LYjm-",
        "colab_type": "text"
      },
      "source": [
        "This project puts into practise the fundamentals of deep learning. We created a model based on NN using two layers of 10 neurons each and different activation functions to predict the class of an image. The dataset is the one contained in the Keras package in which different images of numbers written by hand are analyzed using the vector form represented by matrix pixels.\n",
        "This example was reproduced from the book of Jordi Torres (Deep learning)\n",
        "Preparing working environment"
      ]
    },
    {
      "cell_type": "code",
      "metadata": {
        "id": "Zq_Y5iXcLcWv",
        "colab_type": "code",
        "colab": {
          "base_uri": "https://localhost:8080/",
          "height": 67
        },
        "outputId": "82e84aa3-ef1b-47fc-ee44-7df1cc383d18"
      },
      "source": [
        "\n",
        "import tensorflow as tf\n",
        "from tensorflow import keras\n",
        "import numpy as np\n",
        "import matplotlib.pyplot as plt\n",
        "\n",
        "print(tf.__version__)\n",
        "print(\"GPU Available: \", tf.test.is_gpu_available())\n",
        "print(tf.keras.__version__)"
      ],
      "execution_count": 12,
      "outputs": [
        {
          "output_type": "stream",
          "text": [
            "2.2.0\n",
            "GPU Available:  True\n",
            "2.3.0-tf\n"
          ],
          "name": "stdout"
        }
      ]
    },
    {
      "cell_type": "markdown",
      "metadata": {
        "id": "v_rvMHvQYWyc",
        "colab_type": "text"
      },
      "source": [
        "Loadindg data MNIST(Keras has preloaded data: MNIST loaded as four NumPy arrays )"
      ]
    },
    {
      "cell_type": "code",
      "metadata": {
        "id": "l2S4lZopOsP_",
        "colab_type": "code",
        "colab": {}
      },
      "source": [
        "\n",
        "mnist = tf.keras.datasets.mnist\n",
        "\n",
        "(x_train, y_train),(x_test, y_test) = mnist.load_data()"
      ],
      "execution_count": 0,
      "outputs": []
    },
    {
      "cell_type": "markdown",
      "metadata": {
        "id": "YDm5GYvzYcDm",
        "colab_type": "text"
      },
      "source": [
        "To prove if the data is well loaded, we are goint to choose whichever of the images in the MNIST dataset\n",
        "let's say the image number 4"
      ]
    },
    {
      "cell_type": "code",
      "metadata": {
        "id": "88FZtJJORxbY",
        "colab_type": "code",
        "colab": {
          "base_uri": "https://localhost:8080/",
          "height": 282
        },
        "outputId": "515f280e-5fff-4f4c-cb3f-c18cc77bf5a9"
      },
      "source": [
        "\n",
        "plt.imshow(x_train[4], cmap= plt.cm.binary)\n",
        "#To see the corresponding label\n",
        "print(y_train[4])"
      ],
      "execution_count": 14,
      "outputs": [
        {
          "output_type": "stream",
          "text": [
            "9\n"
          ],
          "name": "stdout"
        },
        {
          "output_type": "display_data",
          "data": {
            "image/png": "[encoded data removed]",
            "text/plain": [
              "<Figure size 432x288 with 1 Axes>"
            ]
          },
          "metadata": {
            "tags": [],
            "needs_background": "light"
          }
        }
      ]
    },
    {
      "cell_type": "markdown",
      "metadata": {
        "id": "mX3O4bPBYNT-",
        "colab_type": "text"
      },
      "source": [
        "Let's use NumPy to know moe about the data"
      ]
    },
    {
      "cell_type": "code",
      "metadata": {
        "id": "JnQRuQE-SglA",
        "colab_type": "code",
        "colab": {
          "base_uri": "https://localhost:8080/",
          "height": 67
        },
        "outputId": "b2247bf7-6af4-42c6-ab25-2fc2c2995b88"
      },
      "source": [
        "\n",
        "#dimensions\n",
        "print(x_train.ndim)\n",
        "#forma\n",
        "print(x_train.shape)\n",
        "#datatype\n",
        "print(x_train.dtype)"
      ],
      "execution_count": 15,
      "outputs": [
        {
          "output_type": "stream",
          "text": [
            "3\n",
            "(60000, 28, 28)\n",
            "uint8\n"
          ],
          "name": "stdout"
        }
      ]
    },
    {
      "cell_type": "markdown",
      "metadata": {
        "id": "23MluPvyYA45",
        "colab_type": "text"
      },
      "source": [
        "To manipulate the tensor. Select digit between 1 to 99 and put them in another tensor."
      ]
    },
    {
      "cell_type": "code",
      "metadata": {
        "id": "I4TgU1fqT2nk",
        "colab_type": "code",
        "colab": {
          "base_uri": "https://localhost:8080/",
          "height": 34
        },
        "outputId": "75c10bc9-f3fb-4745-8298-a8ce795d1930"
      },
      "source": [
        "\n",
        "my_slice = x_train[1:100:,:]\n",
        "print(my_slice.shape)\n",
        "#to select pixels 14 X 14 in the right down corner of each image \n",
        "#my_slice = x_train[:, 14:, 14:]\n",
        "# to cut a pixel space of 14 X 14 in the middle of the image\n",
        "#my_slice = x_train[:, 7:-7, 7:-7]"
      ],
      "execution_count": 16,
      "outputs": [
        {
          "output_type": "stream",
          "text": [
            "(99, 28, 28)\n"
          ],
          "name": "stdout"
        }
      ]
    },
    {
      "cell_type": "markdown",
      "metadata": {
        "id": "SJj4vnM0WrR2",
        "colab_type": "text"
      },
      "source": [
        "Preprocessing data is a common steap to adapt data to a proper format which allows to harness the NN performance. The most common preprocessing operations are:\n",
        "vectorization, Normalization and Feature extracion.\n",
        "For example, to handle data in a range between 0-1"
      ]
    },
    {
      "cell_type": "code",
      "metadata": {
        "id": "cyYh6OgXVh1p",
        "colab_type": "code",
        "colab": {}
      },
      "source": [
        "x_train = x_train.astype('float32')\n",
        "x_test = x_test.astype('float32')\n",
        "\n",
        "x_train /= 255\n",
        "x_test /= 255\n"
      ],
      "execution_count": 0,
      "outputs": []
    },
    {
      "cell_type": "markdown",
      "metadata": {
        "id": "VODuza5NaxFo",
        "colab_type": "text"
      },
      "source": [
        "To change the tensor shape without changing the data. the function numpy,reshape can convert each image of the MNIST dataset to vectors of 784 components"
      ]
    },
    {
      "cell_type": "code",
      "metadata": {
        "id": "YARnL2eWa3_L",
        "colab_type": "code",
        "colab": {
          "base_uri": "https://localhost:8080/",
          "height": 50
        },
        "outputId": "d0eeaaca-3464-4905-d0b9-6717486a97c2"
      },
      "source": [
        "x_train = x_train.reshape(60000, 784)\n",
        "x_test = x_test.reshape(10000, 784)\n",
        "print(x_train.shape)\n",
        "print(x_test.shape)"
      ],
      "execution_count": 18,
      "outputs": [
        {
          "output_type": "stream",
          "text": [
            "(60000, 784)\n",
            "(10000, 784)\n"
          ],
          "name": "stdout"
        }
      ]
    },
    {
      "cell_type": "markdown",
      "metadata": {
        "id": "BVHkLmnBctAk",
        "colab_type": "text"
      },
      "source": [
        "To use the labels (0-9) we use a one-hot codification.To turn the labels in a vector to a vector with as many zeros as distinct label numbers, we can use a kera's function named to_categorical "
      ]
    },
    {
      "cell_type": "code",
      "metadata": {
        "id": "a9gNgvfIdlVq",
        "colab_type": "code",
        "colab": {}
      },
      "source": [
        "from tensorflow.keras.utils import to_categorical"
      ],
      "execution_count": 0,
      "outputs": []
    },
    {
      "cell_type": "markdown",
      "metadata": {
        "id": "AaubFOJdd1Gw",
        "colab_type": "text"
      },
      "source": [
        "Let's check the label without to_categorical function"
      ]
    },
    {
      "cell_type": "code",
      "metadata": {
        "id": "KtmyJHBSd8EA",
        "colab_type": "code",
        "colab": {
          "base_uri": "https://localhost:8080/",
          "height": 84
        },
        "outputId": "150bc448-1d7b-4d36-87ed-4b48847710ee"
      },
      "source": [
        "print(y_test[0])\n",
        "print(y_train[0])\n",
        "print(y_train.shape)\n",
        "print(y_test.shape)"
      ],
      "execution_count": 20,
      "outputs": [
        {
          "output_type": "stream",
          "text": [
            "7\n",
            "5\n",
            "(60000,)\n",
            "(10000,)\n"
          ],
          "name": "stdout"
        }
      ]
    },
    {
      "cell_type": "markdown",
      "metadata": {
        "id": "oSsus3X-esSz",
        "colab_type": "text"
      },
      "source": [
        "Now with categorical"
      ]
    },
    {
      "cell_type": "code",
      "metadata": {
        "id": "17duOOZteudI",
        "colab_type": "code",
        "colab": {
          "base_uri": "https://localhost:8080/",
          "height": 50
        },
        "outputId": "e8d7f04c-9299-465f-8502-4803411e1a7a"
      },
      "source": [
        "y_train = to_categorical(y_train, num_classes = 10)\n",
        "y_test = to_categorical(y_test, num_classes=10)\n",
        "print(y_test[0])\n",
        "#print(y_train[0])\n",
        "print(y_train.shape)"
      ],
      "execution_count": 21,
      "outputs": [
        {
          "output_type": "stream",
          "text": [
            "[0. 0. 0. 0. 0. 0. 0. 1. 0. 0.]\n",
            "(60000, 10)\n"
          ],
          "name": "stdout"
        }
      ]
    },
    {
      "cell_type": "markdown",
      "metadata": {
        "id": "oSoMn8Q3hG15",
        "colab_type": "text"
      },
      "source": [
        "Definning the model\n",
        "The model is consider a sequence of layers (keras has all kind of layers and can be approached easily into the model)\n"
      ]
    },
    {
      "cell_type": "code",
      "metadata": {
        "id": "eFA6LgIGg6YK",
        "colab_type": "code",
        "colab": {}
      },
      "source": [
        "from tensorflow.keras import Sequential\n",
        "from tensorflow.keras.layers import Dense\n",
        "model = Sequential()\n",
        "model.add(Dense(10, activation = 'sigmoid', input_shape = (784,)))\n",
        "model.add(Dense(10, activation = 'softmax'))"
      ],
      "execution_count": 0,
      "outputs": []
    },
    {
      "cell_type": "code",
      "metadata": {
        "id": "UO5qte9wlFMi",
        "colab_type": "code",
        "colab": {
          "base_uri": "https://localhost:8080/",
          "height": 218
        },
        "outputId": "0caa0f8a-53a4-4bd1-82bb-0ecb51e6dfb8"
      },
      "source": [
        "model.summary()"
      ],
      "execution_count": 25,
      "outputs": [
        {
          "output_type": "stream",
          "text": [
            "Model: \"sequential\"\n",
            "_________________________________________________________________\n",
            "Layer (type)                 Output Shape              Param #   \n",
            "=================================================================\n",
            "dense (Dense)                (None, 10)                7850      \n",
            "_________________________________________________________________\n",
            "dense_1 (Dense)              (None, 10)                110       \n",
            "=================================================================\n",
            "Total params: 7,960\n",
            "Trainable params: 7,960\n",
            "Non-trainable params: 0\n",
            "_________________________________________________________________\n"
          ],
          "name": "stdout"
        }
      ]
    },
    {
      "cell_type": "markdown",
      "metadata": {
        "id": "a1saOB9-m15b",
        "colab_type": "text"
      },
      "source": [
        "Configuration of the learning process"
      ]
    },
    {
      "cell_type": "code",
      "metadata": {
        "id": "6W85TLOAm71r",
        "colab_type": "code",
        "colab": {}
      },
      "source": [
        "model.compile(loss=\"categorical_crossentropy\", optimizer = \"sgd\", metrics=['accuracy'])"
      ],
      "execution_count": 0,
      "outputs": []
    },
    {
      "cell_type": "markdown",
      "metadata": {
        "id": "Tjo1QzXSpc8r",
        "colab_type": "text"
      },
      "source": [
        "Model training"
      ]
    },
    {
      "cell_type": "code",
      "metadata": {
        "id": "sZ5-ZLZGpfkq",
        "colab_type": "code",
        "colab": {
          "base_uri": "https://localhost:8080/",
          "height": 302
        },
        "outputId": "c5a32346-5577-4d65-f969-3bf6a6bfb6f3"
      },
      "source": [
        "model.fit(x_train, y_train, epochs = 8)"
      ],
      "execution_count": 29,
      "outputs": [
        {
          "output_type": "stream",
          "text": [
            "Epoch 1/8\n",
            "1875/1875 [==============================] - 3s 2ms/step - loss: 0.5913 - accuracy: 0.8645\n",
            "Epoch 2/8\n",
            "1875/1875 [==============================] - 3s 2ms/step - loss: 0.5406 - accuracy: 0.8725\n",
            "Epoch 3/8\n",
            "1875/1875 [==============================] - 4s 2ms/step - loss: 0.5033 - accuracy: 0.8781\n",
            "Epoch 4/8\n",
            "1875/1875 [==============================] - 4s 2ms/step - loss: 0.4744 - accuracy: 0.8829\n",
            "Epoch 5/8\n",
            "1875/1875 [==============================] - 4s 2ms/step - loss: 0.4513 - accuracy: 0.8874\n",
            "Epoch 6/8\n",
            "1875/1875 [==============================] - 3s 2ms/step - loss: 0.4322 - accuracy: 0.8908\n",
            "Epoch 7/8\n",
            "1875/1875 [==============================] - 3s 2ms/step - loss: 0.4162 - accuracy: 0.8938\n",
            "Epoch 8/8\n",
            "1875/1875 [==============================] - 3s 2ms/step - loss: 0.4024 - accuracy: 0.8963\n"
          ],
          "name": "stdout"
        },
        {
          "output_type": "execute_result",
          "data": {
            "text/plain": [
              "<tensorflow.python.keras.callbacks.History at 0x7f77f44126a0>"
            ]
          },
          "metadata": {
            "tags": []
          },
          "execution_count": 29
        }
      ]
    },
    {
      "cell_type": "markdown",
      "metadata": {
        "id": "RHLPjUCTrNwT",
        "colab_type": "text"
      },
      "source": [
        "Model testing"
      ]
    },
    {
      "cell_type": "code",
      "metadata": {
        "id": "hwSEnN-arSri",
        "colab_type": "code",
        "colab": {
          "base_uri": "https://localhost:8080/",
          "height": 34
        },
        "outputId": "79c41719-2642-40fa-9ad4-04ecf5631217"
      },
      "source": [
        "test_loss, test_acc = model.evaluate(x_test, y_test)"
      ],
      "execution_count": 30,
      "outputs": [
        {
          "output_type": "stream",
          "text": [
            "313/313 [==============================] - 1s 2ms/step - loss: 0.3854 - accuracy: 0.9002\n"
          ],
          "name": "stdout"
        }
      ]
    },
    {
      "cell_type": "code",
      "metadata": {
        "id": "_gXMPmZHtSgD",
        "colab_type": "code",
        "colab": {
          "base_uri": "https://localhost:8080/",
          "height": 34
        },
        "outputId": "9d60e12e-a5e5-46c8-c4a6-99a205c968c5"
      },
      "source": [
        "print(\"Test Accuracy:\", test_acc)"
      ],
      "execution_count": 31,
      "outputs": [
        {
          "output_type": "stream",
          "text": [
            "Test Accuracy: 0.9002000093460083\n"
          ],
          "name": "stdout"
        }
      ]
    },
    {
      "cell_type": "code",
      "metadata": {
        "id": "7P2jKimNtayJ",
        "colab_type": "code",
        "colab": {}
      },
      "source": [
        "def plot_confusion_matrix(cm, classes,\n",
        "                          normalize=False,\n",
        "                          title='Confusion matrix',\n",
        "                          cmap=plt.cm.Blues):\n",
        "    \"\"\"\n",
        "    This function prints and plots the confusion matrix.\n",
        "    Normalization can be applied by setting `normalize=True`.\n",
        "    \"\"\"\n",
        "    plt.imshow(cm, interpolation='nearest', cmap=cmap)\n",
        "    plt.title(title)\n",
        "    plt.colorbar()\n",
        "    tick_marks = np.arange(len(classes))\n",
        "    plt.xticks(tick_marks, classes, rotation=45)\n",
        "    plt.yticks(tick_marks, classes)\n",
        "\n",
        "    if normalize:\n",
        "        cm = cm.astype('float') / cm.sum(axis=1)[:, np.newaxis]\n",
        "\n",
        "    thresh = cm.max() / 2.\n",
        "    for i, j in itertools.product(range(cm.shape[0]), range(cm.shape[1])):\n",
        "        plt.text(j, i, cm[i, j],\n",
        "                 horizontalalignment=\"center\",\n",
        "                 color=\"white\" if cm[i, j] > thresh else \"black\")\n",
        "\n",
        "    plt.tight_layout()\n",
        "    plt.ylabel('Observación')\n",
        "    plt.xlabel('Predicción')"
      ],
      "execution_count": 0,
      "outputs": []
    },
    {
      "cell_type": "code",
      "metadata": {
        "id": "hpjLv_zavpvT",
        "colab_type": "code",
        "colab": {
          "base_uri": "https://localhost:8080/",
          "height": 311
        },
        "outputId": "782b44d9-b5ae-427b-d436-aa7415eebec1"
      },
      "source": [
        "from collections import Counter\n",
        "from sklearn.metrics import confusion_matrix\n",
        "import itertools\n",
        "\n",
        "# Predict the values from the validation dataset\n",
        "Y_pred = model.predict(x_test)\n",
        "# Convert predictions classes to one hot vectors \n",
        "Y_pred_classes = np.argmax(Y_pred, axis = 1) \n",
        "# Convert validation observations to one hot vectors\n",
        "Y_true = np.argmax(y_test, axis = 1) \n",
        "# compute the confusion matrix\n",
        "confusion_mtx = confusion_matrix(Y_true, Y_pred_classes) \n",
        "# plot the confusion matrix\n",
        "plot_confusion_matrix(confusion_mtx, classes = range(10))"
      ],
      "execution_count": 34,
      "outputs": [
        {
          "output_type": "display_data",
          "data": {
            "image/png": "[encoded data removed]",
            "text/plain": [
              "<Figure size 432x288 with 2 Axes>"
            ]
          },
          "metadata": {
            "tags": [],
            "needs_background": "light"
          }
        }
      ]
    },
    {
      "cell_type": "markdown",
      "metadata": {
        "id": "cLFQh-spw3Wx",
        "colab_type": "text"
      },
      "source": [
        "GENERACION DE PREDICCIONES"
      ]
    },
    {
      "cell_type": "code",
      "metadata": {
        "id": "gB3TJedlw6YJ",
        "colab_type": "code",
        "colab": {
          "base_uri": "https://localhost:8080/",
          "height": 282
        },
        "outputId": "fe5b7231-482e-4f62-b818-81b127e18fab"
      },
      "source": [
        "x_test_old = x_test.reshape(10000, 28,28)\n",
        "plt.imshow(x_test_old[11], cmap=plt.cm.binary)"
      ],
      "execution_count": 36,
      "outputs": [
        {
          "output_type": "execute_result",
          "data": {
            "text/plain": [
              "<matplotlib.image.AxesImage at 0x7f7783142cf8>"
            ]
          },
          "metadata": {
            "tags": []
          },
          "execution_count": 36
        },
        {
          "output_type": "display_data",
          "data": {
            "image/png": "[encoded data removed]",
            "text/plain": [
              "<Figure size 432x288 with 1 Axes>"
            ]
          },
          "metadata": {
            "tags": [],
            "needs_background": "light"
          }
        }
      ]
    },
    {
      "cell_type": "code",
      "metadata": {
        "id": "KXc1En0x10rD",
        "colab_type": "code",
        "colab": {}
      },
      "source": [
        "predictions = model.predict(x_test)"
      ],
      "execution_count": 0,
      "outputs": []
    },
    {
      "cell_type": "code",
      "metadata": {
        "id": "-peOrSLQ2Cnh",
        "colab_type": "code",
        "colab": {
          "base_uri": "https://localhost:8080/",
          "height": 34
        },
        "outputId": "44ead759-44fe-4914-9b4b-89d6389d51d2"
      },
      "source": [
        "np.argmax(predictions[11])"
      ],
      "execution_count": 53,
      "outputs": [
        {
          "output_type": "execute_result",
          "data": {
            "text/plain": [
              "6"
            ]
          },
          "metadata": {
            "tags": []
          },
          "execution_count": 53
        }
      ]
    },
    {
      "cell_type": "code",
      "metadata": {
        "id": "Ol8UryAV2IRk",
        "colab_type": "code",
        "colab": {
          "base_uri": "https://localhost:8080/",
          "height": 50
        },
        "outputId": "459a6908-9885-407e-c51e-1a7e6410016e"
      },
      "source": [
        "print(predictions[11])"
      ],
      "execution_count": 54,
      "outputs": [
        {
          "output_type": "stream",
          "text": [
            "[0.05412151 0.00753369 0.1062267  0.00324012 0.03051595 0.07528365\n",
            " 0.6212554  0.00087932 0.09600192 0.00494185]\n"
          ],
          "name": "stdout"
        }
      ]
    },
    {
      "cell_type": "code",
      "metadata": {
        "id": "kRKFTeWN2TfR",
        "colab_type": "code",
        "colab": {
          "base_uri": "https://localhost:8080/",
          "height": 34
        },
        "outputId": "020c274d-01bb-4311-a15c-8ff903790501"
      },
      "source": [
        "np.sum(predictions[11])"
      ],
      "execution_count": 41,
      "outputs": [
        {
          "output_type": "execute_result",
          "data": {
            "text/plain": [
              "1.0000001"
            ]
          },
          "metadata": {
            "tags": []
          },
          "execution_count": 41
        }
      ]
    }
  ]
}